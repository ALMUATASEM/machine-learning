{
 "cells": [
  {
   "cell_type": "code",
   "execution_count": 1,
   "id": "86440ff9",
   "metadata": {},
   "outputs": [],
   "source": [
    "import numpy as np \n",
    "import pandas as pd\n",
    "import os\n",
    "import matplotlib.pyplot as plt\n",
    "import seaborn as sns"
   ]
  },
  {
   "cell_type": "code",
   "execution_count": 2,
   "id": "36ae378d",
   "metadata": {},
   "outputs": [],
   "source": [
    "df =  pd.read_csv(\"C:/Users/1/Downloads/New folder (6)/column_2C_weka.csv\")\n"
   ]
  },
  {
   "cell_type": "code",
   "execution_count": 3,
   "id": "e1569cec",
   "metadata": {},
   "outputs": [
    {
     "data": {
      "text/html": [
       "<div>\n",
       "<style scoped>\n",
       "    .dataframe tbody tr th:only-of-type {\n",
       "        vertical-align: middle;\n",
       "    }\n",
       "\n",
       "    .dataframe tbody tr th {\n",
       "        vertical-align: top;\n",
       "    }\n",
       "\n",
       "    .dataframe thead th {\n",
       "        text-align: right;\n",
       "    }\n",
       "</style>\n",
       "<table border=\"1\" class=\"dataframe\">\n",
       "  <thead>\n",
       "    <tr style=\"text-align: right;\">\n",
       "      <th></th>\n",
       "      <th>pelvic_incidence</th>\n",
       "      <th>pelvic_tilt numeric</th>\n",
       "      <th>lumbar_lordosis_angle</th>\n",
       "      <th>sacral_slope</th>\n",
       "      <th>pelvic_radius</th>\n",
       "      <th>degree_spondylolisthesis</th>\n",
       "      <th>class</th>\n",
       "    </tr>\n",
       "  </thead>\n",
       "  <tbody>\n",
       "    <tr>\n",
       "      <th>0</th>\n",
       "      <td>63.027817</td>\n",
       "      <td>22.552586</td>\n",
       "      <td>39.609117</td>\n",
       "      <td>40.475232</td>\n",
       "      <td>98.672917</td>\n",
       "      <td>-0.254400</td>\n",
       "      <td>Abnormal</td>\n",
       "    </tr>\n",
       "    <tr>\n",
       "      <th>1</th>\n",
       "      <td>39.056951</td>\n",
       "      <td>10.060991</td>\n",
       "      <td>25.015378</td>\n",
       "      <td>28.995960</td>\n",
       "      <td>114.405425</td>\n",
       "      <td>4.564259</td>\n",
       "      <td>Abnormal</td>\n",
       "    </tr>\n",
       "    <tr>\n",
       "      <th>2</th>\n",
       "      <td>68.832021</td>\n",
       "      <td>22.218482</td>\n",
       "      <td>50.092194</td>\n",
       "      <td>46.613539</td>\n",
       "      <td>105.985135</td>\n",
       "      <td>-3.530317</td>\n",
       "      <td>Abnormal</td>\n",
       "    </tr>\n",
       "    <tr>\n",
       "      <th>3</th>\n",
       "      <td>69.297008</td>\n",
       "      <td>24.652878</td>\n",
       "      <td>44.311238</td>\n",
       "      <td>44.644130</td>\n",
       "      <td>101.868495</td>\n",
       "      <td>11.211523</td>\n",
       "      <td>Abnormal</td>\n",
       "    </tr>\n",
       "    <tr>\n",
       "      <th>4</th>\n",
       "      <td>49.712859</td>\n",
       "      <td>9.652075</td>\n",
       "      <td>28.317406</td>\n",
       "      <td>40.060784</td>\n",
       "      <td>108.168725</td>\n",
       "      <td>7.918501</td>\n",
       "      <td>Abnormal</td>\n",
       "    </tr>\n",
       "  </tbody>\n",
       "</table>\n",
       "</div>"
      ],
      "text/plain": [
       "   pelvic_incidence  pelvic_tilt numeric  lumbar_lordosis_angle  sacral_slope  \\\n",
       "0         63.027817            22.552586              39.609117     40.475232   \n",
       "1         39.056951            10.060991              25.015378     28.995960   \n",
       "2         68.832021            22.218482              50.092194     46.613539   \n",
       "3         69.297008            24.652878              44.311238     44.644130   \n",
       "4         49.712859             9.652075              28.317406     40.060784   \n",
       "\n",
       "   pelvic_radius  degree_spondylolisthesis     class  \n",
       "0      98.672917                 -0.254400  Abnormal  \n",
       "1     114.405425                  4.564259  Abnormal  \n",
       "2     105.985135                 -3.530317  Abnormal  \n",
       "3     101.868495                 11.211523  Abnormal  \n",
       "4     108.168725                  7.918501  Abnormal  "
      ]
     },
     "execution_count": 3,
     "metadata": {},
     "output_type": "execute_result"
    }
   ],
   "source": [
    "    df.head()"
   ]
  },
  {
   "cell_type": "code",
   "execution_count": 5,
   "id": "fdd3e165",
   "metadata": {},
   "outputs": [],
   "source": [
    "x = df[[\"pelvic_incidence\", \"pelvic_tilt numeric\", \"lumbar_lordosis_angle\"]]\n",
    "y= df[\"degree_spondylolisthesis\"]"
   ]
  },
  {
   "cell_type": "code",
   "execution_count": 6,
   "id": "a7864472",
   "metadata": {},
   "outputs": [],
   "source": [
    "from sklearn.model_selection import train_test_split\n",
    "x_train, x_test, y_train, y_test= train_test_split(x,y,test_size=0.3,random_state=100)"
   ]
  },
  {
   "cell_type": "code",
   "execution_count": 7,
   "id": "f8a70e8b",
   "metadata": {},
   "outputs": [
    {
     "data": {
      "text/plain": [
       "LinearRegression()"
      ]
     },
     "execution_count": 7,
     "metadata": {},
     "output_type": "execute_result"
    }
   ],
   "source": [
    "from sklearn.linear_model import LinearRegression\n",
    "mlr= LinearRegression()\n",
    "mlr.fit(x_train,y_train)"
   ]
  },
  {
   "cell_type": "code",
   "execution_count": 8,
   "id": "c8fe8921",
   "metadata": {},
   "outputs": [
    {
     "name": "stdout",
     "output_type": "stream",
     "text": [
      "intercept: -66.95366527494545\n",
      "coefficiants:\n"
     ]
    },
    {
     "data": {
      "text/plain": [
       "[('pelvic_incidence', 1.6574961308843656),\n",
       " ('pelvic_tilt numeric', -0.4360599954754777),\n",
       " ('lumbar_lordosis_angle', 0.03844789182768547)]"
      ]
     },
     "execution_count": 8,
     "metadata": {},
     "output_type": "execute_result"
    }
   ],
   "source": [
    "print(\"intercept:\", mlr.intercept_)\n",
    "print(\"coefficiants:\")\n",
    "list(zip(x,mlr.coef_))"
   ]
  },
  {
   "cell_type": "code",
   "execution_count": 9,
   "id": "de5557b1",
   "metadata": {},
   "outputs": [
    {
     "name": "stdout",
     "output_type": "stream",
     "text": [
      "prediction for test set:[ 3.46920320e+01  4.66792475e+00 -5.37587018e+00  2.72093346e+00\n",
      "  5.55295250e+01  6.11507233e+01  2.67726156e+01  8.39770732e+01\n",
      " -6.88045915e+00  3.53732086e+01 -2.31792310e+00 -1.10199000e-01\n",
      "  9.41472671e+00  5.43019952e+01 -3.35152230e+00  1.53045040e+01\n",
      "  1.90963902e+01 -7.48285771e+00  3.20117520e+01  6.18555754e+01\n",
      "  5.09644958e+01  1.39071293e+01  1.47778303e+01  7.31227739e+01\n",
      "  7.37718074e+00  3.94886840e+01  4.77788915e+01  3.21866341e+01\n",
      "  5.28778496e+01  4.85596918e+00  2.75760465e+01  3.49255539e+01\n",
      "  2.36074475e+01  3.18453105e+01  1.29961128e+01 -1.13123741e+01\n",
      "  3.53889416e+01  1.90024673e+01  2.13912393e+01  3.92497753e+01\n",
      "  1.14058987e+02  5.34625743e+01  2.27312476e+01  2.00533141e+01\n",
      " -1.50294134e+00  1.50722404e+01  4.33850768e+01  2.42535593e+00\n",
      "  5.28842461e+01  4.53785891e+01  1.82608475e+01  5.20345733e+01\n",
      "  4.30039893e+01  3.20469543e+01  6.47159911e+01  4.78134611e+01\n",
      "  5.99369184e+01  3.22689222e+01  7.32742541e+01 -6.30095218e+00\n",
      "  3.99579564e+00  1.24204775e+01 -5.64232748e+00 -2.08235716e+00\n",
      "  1.09529461e+01  4.36980347e-01 -4.97802218e+00  5.65454348e+01\n",
      "  2.11590978e+01  2.52701379e+01 -1.97177447e+00  2.80139863e+01\n",
      "  7.47958099e+00  7.64390321e+00  1.57109370e+01  5.18942964e+01\n",
      "  7.03171765e+01  2.67037269e+01  9.76858896e+00 -1.26282876e+01\n",
      "  6.84310713e+01  9.90243770e-01  5.21385034e+01 -1.77646807e+00\n",
      "  7.34285665e+01  5.14614706e+01  6.09821507e+01 -1.11451897e+01\n",
      "  5.58386273e+01  1.02323074e+01  5.77968735e+00  6.34246502e+00\n",
      "  2.49145135e+01]\n"
     ]
    }
   ],
   "source": [
    "y_pred = mlr.predict(x_test)\n",
    "print(\"prediction for test set:{}\".format(y_pred))"
   ]
  },
  {
   "cell_type": "code",
   "execution_count": 10,
   "id": "4711406f",
   "metadata": {},
   "outputs": [
    {
     "data": {
      "text/html": [
       "<div>\n",
       "<style scoped>\n",
       "    .dataframe tbody tr th:only-of-type {\n",
       "        vertical-align: middle;\n",
       "    }\n",
       "\n",
       "    .dataframe tbody tr th {\n",
       "        vertical-align: top;\n",
       "    }\n",
       "\n",
       "    .dataframe thead th {\n",
       "        text-align: right;\n",
       "    }\n",
       "</style>\n",
       "<table border=\"1\" class=\"dataframe\">\n",
       "  <thead>\n",
       "    <tr style=\"text-align: right;\">\n",
       "      <th></th>\n",
       "      <th>actual value:</th>\n",
       "      <th>predited value:</th>\n",
       "    </tr>\n",
       "  </thead>\n",
       "  <tbody>\n",
       "    <tr>\n",
       "      <th>75</th>\n",
       "      <td>145.378143</td>\n",
       "      <td>34.692032</td>\n",
       "    </tr>\n",
       "    <tr>\n",
       "      <th>7</th>\n",
       "      <td>-10.675871</td>\n",
       "      <td>4.667925</td>\n",
       "    </tr>\n",
       "    <tr>\n",
       "      <th>250</th>\n",
       "      <td>-2.092507</td>\n",
       "      <td>-5.375870</td>\n",
       "    </tr>\n",
       "    <tr>\n",
       "      <th>56</th>\n",
       "      <td>5.753277</td>\n",
       "      <td>2.720933</td>\n",
       "    </tr>\n",
       "    <tr>\n",
       "      <th>149</th>\n",
       "      <td>36.706395</td>\n",
       "      <td>55.529525</td>\n",
       "    </tr>\n",
       "  </tbody>\n",
       "</table>\n",
       "</div>"
      ],
      "text/plain": [
       "     actual value:   predited value: \n",
       "75       145.378143         34.692032\n",
       "7        -10.675871          4.667925\n",
       "250       -2.092507         -5.375870\n",
       "56         5.753277          2.720933\n",
       "149       36.706395         55.529525"
      ]
     },
     "execution_count": 10,
     "metadata": {},
     "output_type": "execute_result"
    }
   ],
   "source": [
    "mlr_dif = pd.DataFrame({\"actual value: \":y_test,\"predited value: \":y_pred})\n",
    "mlr_dif.head()"
   ]
  },
  {
   "cell_type": "code",
   "execution_count": 11,
   "id": "674dd4f9",
   "metadata": {},
   "outputs": [
    {
     "name": "stdout",
     "output_type": "stream",
     "text": [
      "r squared: 39.82\n",
      "mse:  678.4249971506957\n"
     ]
    }
   ],
   "source": [
    "from sklearn import metrics\n",
    "meansquare = metrics.mean_squared_error(y_test,y_pred)\n",
    "print(\"r squared: {:.2f}\".format(mlr.score(x,y)*100))\n",
    "print(\"mse: \", meansquare)"
   ]
  },
  {
   "cell_type": "code",
   "execution_count": null,
   "id": "37019cd9",
   "metadata": {},
   "outputs": [],
   "source": []
  }
 ],
 "metadata": {
  "kernelspec": {
   "display_name": "Python 3 (ipykernel)",
   "language": "python",
   "name": "python3"
  },
  "language_info": {
   "codemirror_mode": {
    "name": "ipython",
    "version": 3
   },
   "file_extension": ".py",
   "mimetype": "text/x-python",
   "name": "python",
   "nbconvert_exporter": "python",
   "pygments_lexer": "ipython3",
   "version": "3.9.13"
  }
 },
 "nbformat": 4,
 "nbformat_minor": 5
}
